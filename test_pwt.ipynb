{
  "nbformat": 4,
  "nbformat_minor": 0,
  "metadata": {
    "colab": {
      "name": "test_pwt.ipynb",
      "version": "0.3.2",
      "provenance": [],
      "toc_visible": true,
      "include_colab_link": true
    }
  },
  "cells": [
    {
      "cell_type": "markdown",
      "metadata": {
        "id": "view-in-github",
        "colab_type": "text"
      },
      "source": [
        "[View in Colaboratory](https://colab.research.google.com/github/OlaSam/Data-Analysis/blob/master/test_pwt.ipynb)"
      ]
    },
    {
      "metadata": {
        "id": "M8vKS4i1fd8d",
        "colab_type": "code",
        "colab": {}
      },
      "cell_type": "code",
      "source": [
        "import pandas as pd\n",
        "import numpy as np\n",
        "df = pd.read.csv(\"https://docs.google.com/spreadsheets/d/10bzlkq2CR82bX4QuTzO_xY72_GEGmr8CSsHQBV64OEY/edit?usp=sharing\")\n",
        "type(df)\n",
        "df"
      ],
      "execution_count": 0,
      "outputs": []
    },
    {
      "metadata": {
        "id": "rWSkjWE9vSq4",
        "colab_type": "code",
        "colab": {}
      },
      "cell_type": "code",
      "source": [
        ""
      ],
      "execution_count": 0,
      "outputs": []
    },
    {
      "metadata": {
        "id": "HTTQBD3gvkbB",
        "colab_type": "code",
        "colab": {}
      },
      "cell_type": "code",
      "source": [
        "!pip install --upgrade -q gspread"
      ],
      "execution_count": 0,
      "outputs": []
    },
    {
      "metadata": {
        "id": "XXam_WxEvkcm",
        "colab_type": "code",
        "colab": {
          "base_uri": "https://localhost:8080/",
          "height": 365
        },
        "outputId": "2dac212d-b56c-4828-ab66-77450197d4c6"
      },
      "cell_type": "code",
      "source": [
        "from google.colab import auth\n",
        "auth.authenticate_user()\n",
        "\n",
        "import gspread\n",
        "from oauth2client.client import GoogleCredentials\n",
        "\n",
        "gc = gspread.authorize(GoogleCredentials.get_application_default())\n",
        "\n",
        "df = gc.open('test_pwt').sheet1\n",
        "\n",
        "# get_all_values gives a list of rows.\n",
        "rows = df.get_all_values()\n",
        "print(rows)\n",
        "\n",
        "# Convert to a DataFrame and render.\n",
        "import pandas as pd\n",
        "pd.DataFrame.from_records(rows)"
      ],
      "execution_count": 16,
      "outputs": [
        {
          "output_type": "stream",
          "text": [
            "[[u'country', u'country isocode', u'year', u'POP', u'XRAT', u'tcgdp', u'cc', u'cg'], [u'Argentina', u'ARG', u'2000', u'37335.653', u'0.9995', u'295072.2187', u'75.71680538', u'5.57880429'], [u'Australia', u'AUS', u'2000', u'19053.186', u'1.72483', u'541804.6521', u'67.75902599', u'6.720097533'], [u'India', u'IND', u'2000', u'1006300.297', u'44.9416', u'1728144.375', u'64.57555133', u'14.07220577'], [u'Israel', u'ISR', u'2000', u'6114.57', u'4.07733', u'129253.8942', u'64.43645085', u'10.26668842'], [u'Malawi', u'MWI', u'2000', u'11801.505', u'59.54380833', u'5026.221784', u'74.70762418', u'11.65895449'], [u'South Africa', u'ZAF', u'2000', u'45064.098', u'6.93983', u'227242.3695', u'72.71871043', u'5.726546393'], [u'United States', u'USA', u'2000', u'282171.957', u'1', u'9898700', u'72.3470543', u'6.032453979'], [u'Uruguay', u'URY', u'2000', u'3219.793', u'12.09959167', u'25255.96169', u'78.97874028', u'5.108067988']]\n"
          ],
          "name": "stdout"
        },
        {
          "output_type": "execute_result",
          "data": {
            "text/html": [
              "<div>\n",
              "<style scoped>\n",
              "    .dataframe tbody tr th:only-of-type {\n",
              "        vertical-align: middle;\n",
              "    }\n",
              "\n",
              "    .dataframe tbody tr th {\n",
              "        vertical-align: top;\n",
              "    }\n",
              "\n",
              "    .dataframe thead th {\n",
              "        text-align: right;\n",
              "    }\n",
              "</style>\n",
              "<table border=\"1\" class=\"dataframe\">\n",
              "  <thead>\n",
              "    <tr style=\"text-align: right;\">\n",
              "      <th></th>\n",
              "      <th>0</th>\n",
              "      <th>1</th>\n",
              "      <th>2</th>\n",
              "      <th>3</th>\n",
              "      <th>4</th>\n",
              "      <th>5</th>\n",
              "      <th>6</th>\n",
              "      <th>7</th>\n",
              "    </tr>\n",
              "  </thead>\n",
              "  <tbody>\n",
              "    <tr>\n",
              "      <th>0</th>\n",
              "      <td>country</td>\n",
              "      <td>country isocode</td>\n",
              "      <td>year</td>\n",
              "      <td>POP</td>\n",
              "      <td>XRAT</td>\n",
              "      <td>tcgdp</td>\n",
              "      <td>cc</td>\n",
              "      <td>cg</td>\n",
              "    </tr>\n",
              "    <tr>\n",
              "      <th>1</th>\n",
              "      <td>Argentina</td>\n",
              "      <td>ARG</td>\n",
              "      <td>2000</td>\n",
              "      <td>37335.653</td>\n",
              "      <td>0.9995</td>\n",
              "      <td>295072.2187</td>\n",
              "      <td>75.71680538</td>\n",
              "      <td>5.57880429</td>\n",
              "    </tr>\n",
              "    <tr>\n",
              "      <th>2</th>\n",
              "      <td>Australia</td>\n",
              "      <td>AUS</td>\n",
              "      <td>2000</td>\n",
              "      <td>19053.186</td>\n",
              "      <td>1.72483</td>\n",
              "      <td>541804.6521</td>\n",
              "      <td>67.75902599</td>\n",
              "      <td>6.720097533</td>\n",
              "    </tr>\n",
              "    <tr>\n",
              "      <th>3</th>\n",
              "      <td>India</td>\n",
              "      <td>IND</td>\n",
              "      <td>2000</td>\n",
              "      <td>1006300.297</td>\n",
              "      <td>44.9416</td>\n",
              "      <td>1728144.375</td>\n",
              "      <td>64.57555133</td>\n",
              "      <td>14.07220577</td>\n",
              "    </tr>\n",
              "    <tr>\n",
              "      <th>4</th>\n",
              "      <td>Israel</td>\n",
              "      <td>ISR</td>\n",
              "      <td>2000</td>\n",
              "      <td>6114.57</td>\n",
              "      <td>4.07733</td>\n",
              "      <td>129253.8942</td>\n",
              "      <td>64.43645085</td>\n",
              "      <td>10.26668842</td>\n",
              "    </tr>\n",
              "    <tr>\n",
              "      <th>5</th>\n",
              "      <td>Malawi</td>\n",
              "      <td>MWI</td>\n",
              "      <td>2000</td>\n",
              "      <td>11801.505</td>\n",
              "      <td>59.54380833</td>\n",
              "      <td>5026.221784</td>\n",
              "      <td>74.70762418</td>\n",
              "      <td>11.65895449</td>\n",
              "    </tr>\n",
              "    <tr>\n",
              "      <th>6</th>\n",
              "      <td>South Africa</td>\n",
              "      <td>ZAF</td>\n",
              "      <td>2000</td>\n",
              "      <td>45064.098</td>\n",
              "      <td>6.93983</td>\n",
              "      <td>227242.3695</td>\n",
              "      <td>72.71871043</td>\n",
              "      <td>5.726546393</td>\n",
              "    </tr>\n",
              "    <tr>\n",
              "      <th>7</th>\n",
              "      <td>United States</td>\n",
              "      <td>USA</td>\n",
              "      <td>2000</td>\n",
              "      <td>282171.957</td>\n",
              "      <td>1</td>\n",
              "      <td>9898700</td>\n",
              "      <td>72.3470543</td>\n",
              "      <td>6.032453979</td>\n",
              "    </tr>\n",
              "    <tr>\n",
              "      <th>8</th>\n",
              "      <td>Uruguay</td>\n",
              "      <td>URY</td>\n",
              "      <td>2000</td>\n",
              "      <td>3219.793</td>\n",
              "      <td>12.09959167</td>\n",
              "      <td>25255.96169</td>\n",
              "      <td>78.97874028</td>\n",
              "      <td>5.108067988</td>\n",
              "    </tr>\n",
              "  </tbody>\n",
              "</table>\n",
              "</div>"
            ],
            "text/plain": [
              "               0                1     2            3            4  \\\n",
              "0        country  country isocode  year          POP         XRAT   \n",
              "1      Argentina              ARG  2000    37335.653       0.9995   \n",
              "2      Australia              AUS  2000    19053.186      1.72483   \n",
              "3          India              IND  2000  1006300.297      44.9416   \n",
              "4         Israel              ISR  2000      6114.57      4.07733   \n",
              "5         Malawi              MWI  2000    11801.505  59.54380833   \n",
              "6   South Africa              ZAF  2000    45064.098      6.93983   \n",
              "7  United States              USA  2000   282171.957            1   \n",
              "8        Uruguay              URY  2000     3219.793  12.09959167   \n",
              "\n",
              "             5            6            7  \n",
              "0        tcgdp           cc           cg  \n",
              "1  295072.2187  75.71680538   5.57880429  \n",
              "2  541804.6521  67.75902599  6.720097533  \n",
              "3  1728144.375  64.57555133  14.07220577  \n",
              "4  129253.8942  64.43645085  10.26668842  \n",
              "5  5026.221784  74.70762418  11.65895449  \n",
              "6  227242.3695  72.71871043  5.726546393  \n",
              "7      9898700   72.3470543  6.032453979  \n",
              "8  25255.96169  78.97874028  5.108067988  "
            ]
          },
          "metadata": {
            "tags": []
          },
          "execution_count": 16
        }
      ]
    },
    {
      "metadata": {
        "id": "qxy6rLMlykhQ",
        "colab_type": "code",
        "colab": {
          "base_uri": "https://localhost:8080/",
          "height": 34
        },
        "outputId": "79d2b561-27d4-46bc-87ac-a3d9c7d2b6ec"
      },
      "cell_type": "code",
      "source": [
        "print(df)\n"
      ],
      "execution_count": 21,
      "outputs": [
        {
          "output_type": "stream",
          "text": [
            "<Worksheet u'test_pwt' id:1280192531>\n"
          ],
          "name": "stdout"
        }
      ]
    }
  ]
}